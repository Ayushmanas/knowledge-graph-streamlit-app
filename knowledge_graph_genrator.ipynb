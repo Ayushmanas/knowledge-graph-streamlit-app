{
 "cells": [
  {
   "cell_type": "code",
   "execution_count": 2,
   "id": "9a994ff4",
   "metadata": {},
   "outputs": [],
   "source": [
    "#%pip install --upgrade langchain langchain-experimental langchain-openai python-dotenv pyvis"
   ]
  },
  {
   "cell_type": "code",
   "execution_count": 15,
   "id": "2160a86e",
   "metadata": {},
   "outputs": [
    {
     "name": "stdout",
     "output_type": "stream",
     "text": [
      "Defaulting to user installation because normal site-packages is not writeable\n",
      "Collecting streamlit\n",
      "  Downloading streamlit-1.50.0-py3-none-any.whl.metadata (9.5 kB)\n",
      "Collecting altair!=5.4.0,!=5.4.1,<6,>=4.0 (from streamlit)\n",
      "  Downloading altair-5.5.0-py3-none-any.whl.metadata (11 kB)\n",
      "Collecting blinker<2,>=1.5.0 (from streamlit)\n",
      "  Downloading blinker-1.9.0-py3-none-any.whl.metadata (1.6 kB)\n",
      "Collecting cachetools<7,>=4.0 (from streamlit)\n",
      "  Downloading cachetools-6.2.0-py3-none-any.whl.metadata (5.4 kB)\n",
      "Collecting click<9,>=7.0 (from streamlit)\n",
      "  Downloading click-8.3.0-py3-none-any.whl.metadata (2.6 kB)\n",
      "Requirement already satisfied: numpy<3,>=1.23 in c:\\users\\aprasa02\\appdata\\roaming\\python\\python312\\site-packages (from streamlit) (2.3.3)\n",
      "Requirement already satisfied: packaging<26,>=20 in c:\\users\\aprasa02\\appdata\\roaming\\python\\python312\\site-packages (from streamlit) (25.0)\n",
      "Collecting pandas<3,>=1.4.0 (from streamlit)\n",
      "  Downloading pandas-2.3.3-cp312-cp312-win_amd64.whl.metadata (19 kB)\n",
      "Collecting pillow<12,>=7.1.0 (from streamlit)\n",
      "  Downloading pillow-11.3.0-cp312-cp312-win_amd64.whl.metadata (9.2 kB)\n",
      "Collecting protobuf<7,>=3.20 (from streamlit)\n",
      "  Downloading protobuf-6.32.1-cp310-abi3-win_amd64.whl.metadata (593 bytes)\n",
      "Collecting pyarrow>=7.0 (from streamlit)\n",
      "  Downloading pyarrow-21.0.0-cp312-cp312-win_amd64.whl.metadata (3.4 kB)\n",
      "Requirement already satisfied: requests<3,>=2.27 in c:\\users\\aprasa02\\appdata\\roaming\\python\\python312\\site-packages (from streamlit) (2.32.5)\n",
      "Requirement already satisfied: tenacity<10,>=8.1.0 in c:\\users\\aprasa02\\appdata\\roaming\\python\\python312\\site-packages (from streamlit) (9.1.2)\n",
      "Collecting toml<2,>=0.10.1 (from streamlit)\n",
      "  Downloading toml-0.10.2-py2.py3-none-any.whl.metadata (7.1 kB)\n",
      "Requirement already satisfied: typing-extensions<5,>=4.4.0 in c:\\users\\aprasa02\\appdata\\roaming\\python\\python312\\site-packages (from streamlit) (4.15.0)\n",
      "Collecting watchdog<7,>=2.1.5 (from streamlit)\n",
      "  Downloading watchdog-6.0.0-py3-none-win_amd64.whl.metadata (44 kB)\n",
      "Collecting gitpython!=3.1.19,<4,>=3.0.7 (from streamlit)\n",
      "  Downloading gitpython-3.1.45-py3-none-any.whl.metadata (13 kB)\n",
      "Collecting pydeck<1,>=0.8.0b4 (from streamlit)\n",
      "  Downloading pydeck-0.9.1-py2.py3-none-any.whl.metadata (4.1 kB)\n",
      "Requirement already satisfied: tornado!=6.5.0,<7,>=6.0.3 in c:\\users\\aprasa02\\appdata\\roaming\\python\\python312\\site-packages (from streamlit) (6.5.2)\n",
      "Requirement already satisfied: jinja2 in c:\\users\\aprasa02\\appdata\\roaming\\python\\python312\\site-packages (from altair!=5.4.0,!=5.4.1,<6,>=4.0->streamlit) (3.1.6)\n",
      "Collecting jsonschema>=3.0 (from altair!=5.4.0,!=5.4.1,<6,>=4.0->streamlit)\n",
      "  Downloading jsonschema-4.25.1-py3-none-any.whl.metadata (7.6 kB)\n",
      "Collecting narwhals>=1.14.2 (from altair!=5.4.0,!=5.4.1,<6,>=4.0->streamlit)\n",
      "  Downloading narwhals-2.6.0-py3-none-any.whl.metadata (11 kB)\n",
      "Requirement already satisfied: colorama in c:\\users\\aprasa02\\appdata\\roaming\\python\\python312\\site-packages (from click<9,>=7.0->streamlit) (0.4.6)\n",
      "Collecting gitdb<5,>=4.0.1 (from gitpython!=3.1.19,<4,>=3.0.7->streamlit)\n",
      "  Downloading gitdb-4.0.12-py3-none-any.whl.metadata (1.2 kB)\n",
      "Requirement already satisfied: python-dateutil>=2.8.2 in c:\\users\\aprasa02\\appdata\\roaming\\python\\python312\\site-packages (from pandas<3,>=1.4.0->streamlit) (2.9.0.post0)\n",
      "Collecting pytz>=2020.1 (from pandas<3,>=1.4.0->streamlit)\n",
      "  Downloading pytz-2025.2-py2.py3-none-any.whl.metadata (22 kB)\n",
      "Collecting tzdata>=2022.7 (from pandas<3,>=1.4.0->streamlit)\n",
      "  Downloading tzdata-2025.2-py2.py3-none-any.whl.metadata (1.4 kB)\n",
      "Requirement already satisfied: charset_normalizer<4,>=2 in c:\\users\\aprasa02\\appdata\\roaming\\python\\python312\\site-packages (from requests<3,>=2.27->streamlit) (3.4.3)\n",
      "Requirement already satisfied: idna<4,>=2.5 in c:\\users\\aprasa02\\appdata\\roaming\\python\\python312\\site-packages (from requests<3,>=2.27->streamlit) (3.10)\n",
      "Requirement already satisfied: urllib3<3,>=1.21.1 in c:\\users\\aprasa02\\appdata\\roaming\\python\\python312\\site-packages (from requests<3,>=2.27->streamlit) (2.5.0)\n",
      "Requirement already satisfied: certifi>=2017.4.17 in c:\\users\\aprasa02\\appdata\\roaming\\python\\python312\\site-packages (from requests<3,>=2.27->streamlit) (2025.10.5)\n",
      "Collecting smmap<6,>=3.0.1 (from gitdb<5,>=4.0.1->gitpython!=3.1.19,<4,>=3.0.7->streamlit)\n",
      "  Downloading smmap-5.0.2-py3-none-any.whl.metadata (4.3 kB)\n",
      "Requirement already satisfied: MarkupSafe>=2.0 in c:\\users\\aprasa02\\appdata\\roaming\\python\\python312\\site-packages (from jinja2->altair!=5.4.0,!=5.4.1,<6,>=4.0->streamlit) (3.0.3)\n",
      "Requirement already satisfied: attrs>=22.2.0 in c:\\users\\aprasa02\\appdata\\roaming\\python\\python312\\site-packages (from jsonschema>=3.0->altair!=5.4.0,!=5.4.1,<6,>=4.0->streamlit) (25.3.0)\n",
      "Collecting jsonschema-specifications>=2023.03.6 (from jsonschema>=3.0->altair!=5.4.0,!=5.4.1,<6,>=4.0->streamlit)\n",
      "  Downloading jsonschema_specifications-2025.9.1-py3-none-any.whl.metadata (2.9 kB)\n",
      "Collecting referencing>=0.28.4 (from jsonschema>=3.0->altair!=5.4.0,!=5.4.1,<6,>=4.0->streamlit)\n",
      "  Downloading referencing-0.36.2-py3-none-any.whl.metadata (2.8 kB)\n",
      "Collecting rpds-py>=0.7.1 (from jsonschema>=3.0->altair!=5.4.0,!=5.4.1,<6,>=4.0->streamlit)\n",
      "  Downloading rpds_py-0.27.1-cp312-cp312-win_amd64.whl.metadata (4.3 kB)\n",
      "Requirement already satisfied: six>=1.5 in c:\\users\\aprasa02\\appdata\\roaming\\python\\python312\\site-packages (from python-dateutil>=2.8.2->pandas<3,>=1.4.0->streamlit) (1.17.0)\n",
      "Downloading streamlit-1.50.0-py3-none-any.whl (10.1 MB)\n",
      "   ---------------------------------------- 0.0/10.1 MB ? eta -:--:--\n",
      "   ------------- -------------------------- 3.4/10.1 MB 16.7 MB/s eta 0:00:01\n",
      "   ----------------------- ---------------- 6.0/10.1 MB 14.7 MB/s eta 0:00:01\n",
      "   ------------------------------- -------- 7.9/10.1 MB 12.5 MB/s eta 0:00:01\n",
      "   ---------------------------------------- 10.1/10.1 MB 11.8 MB/s eta 0:00:00\n",
      "Downloading altair-5.5.0-py3-none-any.whl (731 kB)\n",
      "   ---------------------------------------- 0.0/731.2 kB ? eta -:--:--\n",
      "   ---------------------------------------- 731.2/731.2 kB 7.6 MB/s eta 0:00:00\n",
      "Downloading blinker-1.9.0-py3-none-any.whl (8.5 kB)\n",
      "Downloading cachetools-6.2.0-py3-none-any.whl (11 kB)\n",
      "Downloading click-8.3.0-py3-none-any.whl (107 kB)\n",
      "Downloading gitpython-3.1.45-py3-none-any.whl (208 kB)\n",
      "Downloading pandas-2.3.3-cp312-cp312-win_amd64.whl (11.0 MB)\n",
      "   ---------------------------------------- 0.0/11.0 MB ? eta -:--:--\n",
      "   --------- ------------------------------ 2.6/11.0 MB 13.7 MB/s eta 0:00:01\n",
      "   -------------------- ------------------- 5.8/11.0 MB 14.1 MB/s eta 0:00:01\n",
      "   -------------------------- ------------- 7.3/11.0 MB 12.2 MB/s eta 0:00:01\n",
      "   ----------------------------- ---------- 8.1/11.0 MB 10.1 MB/s eta 0:00:01\n",
      "   --------------------------------- ------ 9.2/11.0 MB 8.6 MB/s eta 0:00:01\n",
      "   -------------------------------------- - 10.5/11.0 MB 8.6 MB/s eta 0:00:01\n",
      "   ---------------------------------------- 11.0/11.0 MB 7.9 MB/s eta 0:00:00\n",
      "Downloading pillow-11.3.0-cp312-cp312-win_amd64.whl (7.0 MB)\n",
      "   ---------------------------------------- 0.0/7.0 MB ? eta -:--:--\n",
      "   --- ------------------------------------ 0.5/7.0 MB 5.6 MB/s eta 0:00:02\n",
      "   ------- -------------------------------- 1.3/7.0 MB 3.7 MB/s eta 0:00:02\n",
      "   ------------ --------------------------- 2.1/7.0 MB 3.7 MB/s eta 0:00:02\n",
      "   ------------------ --------------------- 3.1/7.0 MB 3.9 MB/s eta 0:00:01\n",
      "   --------------------- ------------------ 3.7/7.0 MB 3.8 MB/s eta 0:00:01\n",
      "   --------------------------- ------------ 4.7/7.0 MB 3.8 MB/s eta 0:00:01\n",
      "   ------------------------------- -------- 5.5/7.0 MB 3.9 MB/s eta 0:00:01\n",
      "   ------------------------------------- -- 6.6/7.0 MB 3.9 MB/s eta 0:00:01\n",
      "   ---------------------------------------- 7.0/7.0 MB 3.8 MB/s eta 0:00:00\n",
      "Downloading protobuf-6.32.1-cp310-abi3-win_amd64.whl (435 kB)\n",
      "Downloading pyarrow-21.0.0-cp312-cp312-win_amd64.whl (26.2 MB)\n",
      "   ---------------------------------------- 0.0/26.2 MB ? eta -:--:--\n",
      "   -- ------------------------------------- 1.3/26.2 MB 6.7 MB/s eta 0:00:04\n",
      "   ---- ----------------------------------- 3.1/26.2 MB 7.7 MB/s eta 0:00:03\n",
      "   ------- -------------------------------- 5.0/26.2 MB 8.2 MB/s eta 0:00:03\n",
      "   ---------- ----------------------------- 7.1/26.2 MB 8.4 MB/s eta 0:00:03\n",
      "   -------------- ------------------------- 9.4/26.2 MB 8.9 MB/s eta 0:00:02\n",
      "   ------------------ --------------------- 12.1/26.2 MB 9.4 MB/s eta 0:00:02\n",
      "   ---------------------- ----------------- 14.7/26.2 MB 9.9 MB/s eta 0:00:02\n",
      "   -------------------------- ------------- 17.6/26.2 MB 10.3 MB/s eta 0:00:01\n",
      "   ------------------------------- -------- 20.4/26.2 MB 10.8 MB/s eta 0:00:01\n",
      "   ------------------------------------ --- 23.6/26.2 MB 11.1 MB/s eta 0:00:01\n",
      "   ---------------------------------------  26.0/26.2 MB 11.2 MB/s eta 0:00:01\n",
      "   ---------------------------------------- 26.2/26.2 MB 10.7 MB/s eta 0:00:00\n",
      "Downloading pydeck-0.9.1-py2.py3-none-any.whl (6.9 MB)\n",
      "   ---------------------------------------- 0.0/6.9 MB ? eta -:--:--\n",
      "   ------------- -------------------------- 2.4/6.9 MB 12.2 MB/s eta 0:00:01\n",
      "   ---------------------------- ----------- 5.0/6.9 MB 12.1 MB/s eta 0:00:01\n",
      "   ---------------------------------------- 6.9/6.9 MB 11.5 MB/s eta 0:00:00\n",
      "Downloading toml-0.10.2-py2.py3-none-any.whl (16 kB)\n",
      "Downloading watchdog-6.0.0-py3-none-win_amd64.whl (79 kB)\n",
      "Downloading gitdb-4.0.12-py3-none-any.whl (62 kB)\n",
      "Downloading jsonschema-4.25.1-py3-none-any.whl (90 kB)\n",
      "Downloading narwhals-2.6.0-py3-none-any.whl (408 kB)\n",
      "Downloading pytz-2025.2-py2.py3-none-any.whl (509 kB)\n",
      "Downloading tzdata-2025.2-py2.py3-none-any.whl (347 kB)\n",
      "Downloading jsonschema_specifications-2025.9.1-py3-none-any.whl (18 kB)\n",
      "Downloading referencing-0.36.2-py3-none-any.whl (26 kB)\n",
      "Downloading rpds_py-0.27.1-cp312-cp312-win_amd64.whl (232 kB)\n",
      "Downloading smmap-5.0.2-py3-none-any.whl (24 kB)\n",
      "Installing collected packages: pytz, watchdog, tzdata, toml, smmap, rpds-py, pyarrow, protobuf, pillow, narwhals, click, cachetools, blinker, referencing, pydeck, pandas, gitdb, jsonschema-specifications, gitpython, jsonschema, altair, streamlit\n",
      "Successfully installed altair-5.5.0 blinker-1.9.0 cachetools-6.2.0 click-8.3.0 gitdb-4.0.12 gitpython-3.1.45 jsonschema-4.25.1 jsonschema-specifications-2025.9.1 narwhals-2.6.0 pandas-2.3.3 pillow-11.3.0 protobuf-6.32.1 pyarrow-21.0.0 pydeck-0.9.1 pytz-2025.2 referencing-0.36.2 rpds-py-0.27.1 smmap-5.0.2 streamlit-1.50.0 toml-0.10.2 tzdata-2025.2 watchdog-6.0.0\n",
      "Note: you may need to restart the kernel to use updated packages.\n"
     ]
    },
    {
     "name": "stderr",
     "output_type": "stream",
     "text": [
      "\n",
      "[notice] A new release of pip is available: 25.0.1 -> 25.2\n",
      "[notice] To update, run: python.exe -m pip install --upgrade pip\n"
     ]
    }
   ],
   "source": [
    "#%pip install streamlit"
   ]
  },
  {
   "cell_type": "markdown",
   "id": "2453530a",
   "metadata": {},
   "source": [
    "#####       Read env variables"
   ]
  },
  {
   "cell_type": "code",
   "execution_count": 3,
   "id": "db524170",
   "metadata": {},
   "outputs": [],
   "source": [
    "from dotenv import load_dotenv\n",
    "import os\n",
    "\n",
    "#Load the env variable\n",
    "load_dotenv()\n",
    "# Get API key from env variable\n",
    "api_key = os.getenv(\"OPENAI_API_KEY\")\n"
   ]
  },
  {
   "cell_type": "markdown",
   "id": "7eb1050d",
   "metadata": {},
   "source": [
    "#### LLM graph transformer\n",
    "We will be using gpt-4o"
   ]
  },
  {
   "cell_type": "code",
   "execution_count": 4,
   "id": "f636f3b6",
   "metadata": {},
   "outputs": [],
   "source": [
    "from langchain_experimental.graph_transformers import LLMGraphTransformer\n",
    "from langchain_core.documents import Document\n",
    "from langchain_openai import ChatOpenAI\n",
    "\n",
    "llm = ChatOpenAI(temperature=0, model_name='gpt-4o')\n",
    "\n",
    "graph_transformer = LLMGraphTransformer(llm=llm)"
   ]
  },
  {
   "cell_type": "code",
   "execution_count": 5,
   "id": "b10f68aa",
   "metadata": {},
   "outputs": [],
   "source": [
    "text_data = \"\"\"\n",
    "Avul Pakir Jainulabdeen Abdul Kalam (/ˈʌbdʊl kəˈlɑːm/ ⓘ UB-duul kə-LAHM; 15 October 1931 – 27 July 2015) was an Indian aerospace scientist and statesman who served as the president of India from 2002 to 2007.\n",
    "\n",
    "Born and raised in a Muslim family in Rameswaram, Tamil Nadu, Kalam studied physics and aerospace engineering. He spent the next four decades as a scientist and science administrator, mainly at the Defence Research and Development Organisation (DRDO) and Indian Space Research Organisation (ISRO) and was intimately involved in India's civilian space programme and military missile development efforts. He was known as the \"Missile Man of India\" for his work on the development of ballistic missile and launch vehicle technology. He also played a pivotal organisational, technical, and political role in Pokhran-II nuclear tests in 1998, India's second such test after the first test in 1974.\n",
    "\n",
    "Kalam was elected as the president of India in 2002 with the support of both the ruling Bharatiya Janata Party and the then-opposition Indian National Congress. He was widely referred to as the \"People's President\". He engaged in teaching, writing and public service after his presidency. He was a recipient of several awards, including the Bharat Ratna, India's highest civilian honour.\n",
    "\n",
    "While delivering a lecture at IIM Shillong, Kalam collapsed and died from an apparent cardiac arrest on 27 July 2015, aged 83. Thousands attended the funeral ceremony held in his hometown of Rameswaram, where he was buried with full state honours. A memorial was inaugurated near his home town in 2017.\n",
    "\n",
    "Early life and education\n",
    "Avul Pakir Jainulabdeen Abdul Kalam was born on 15 October 1931 to a Tamil Muslim family in the pilgrimage center of Rameswaram on Pamban Island, Madras Presidency (now in the Indian state of Tamil Nadu).[2][3] His father, Jainulabdeen Marakayar, was a boat owner and imam of a local mosque,[4] and his mother, Ashiamma, was a housewife.[5][6] His father owned a boat that ferried Hindu pilgrims between Rameswaram and Dhanushkodi.[7][8]\n",
    "\n",
    "\n",
    "Kalam's birthplace in Rameswaram, Tamil Nadu\n",
    "\t\n",
    "This article is part of\n",
    "a series about\n",
    "A. P. J. Abdul Kalam\n",
    "Presidency\n",
    "(2002–2007)\n",
    "Presidential elections 2002\n",
    "Awards and honoursEponymsDeath and state funeralMemorialWorld Students' Day\n",
    "Books and publications\n",
    "\n",
    "Wings of FireIndia 2020Ignited MindsTarget 3 BillionTranscendenceIndomitable Spirit\n",
    "Associated projects\n",
    "Integrated Guided Missile Development ProgrammePokhran-IIProject DevilProject ValiantPolar Satellite Launch VehicleSatellite Launch VehicleSmiling Buddha\n",
    "Gallery: Picture, Sound, Video\n",
    "vte\n",
    "Kalam was the youngest of four brothers and a sister in the family.[9][10][11] His ancestors had been wealthy Marakayar traders and landowners, with numerous properties and large tracts of land. Marakayar are a Muslim ethnic group found in coastal Tamil Nadu and Sri Lanka who claim descent from Arab traders and local women. The family business had involved trading goods and transporting passengers between the Indian mainland and the Pamban Island and to and from Sri Lanka. With the opening of the Pamban Bridge connecting Pamban Island to mainland India in 1914, the businesses failed. As a result, apart from the ancestral home, the other family fortune and properties were lost by the 1920s, and the family was poverty-stricken by the time Kalam was born. As a young boy, he delivered newspapers to support the family's meager income.[12][13][14]\n",
    "\n",
    "In his school years, Kalam got average grades but was described by his teachers as a bright and hardworking student with a strong desire to learn. He spent hours learning Mathematics.[14] He did his schooling at Schwartz Higher Secondary School in Ramanathapuram.[15] He then graduated in Physics from St. Joseph's College, Tiruchirappalli, in 1954.[16]\n",
    "\n",
    "Kalam moved to Madras in 1955 to study aerospace engineering at the Madras Institute of Technology.[3] While he was working on a class project, the Dean of the institution was dissatisfied with his lack of progress and threatened to revoke his scholarship unless the project was finished within the next three days. Kalam met the deadline, impressing the Dean, who later said to him, \"I was putting you under stress and asking you to meet a difficult deadline.\"[17] Later, he narrowly missed out on his dream of becoming a fighter pilot, as he placed ninth in qualifiers, and only eight positions were available in the Indian Air Force.[18]\n",
    "\n",
    "Career as a scientist\n",
    "This was my first stage, in which I learnt leadership from three great teachers—Dr Vikram Sarabhai, Prof Satish Dhawan and Dr Brahm Prakash. This was the time of learning and acquisition of knowledge for me.\n",
    "\n",
    "Abdul Kalam[19]\n",
    "After graduating from the Madras Institute of Technology in 1960, Kalam became a member of the Defence Research & Development Service and joined the Aeronautical Development Establishment of the Defence Research and Development Organisation (DRDO) as a scientist. During his early career, he was involved in the design of small hovercraft, and remained unconvinced by his choice of a job at DRDO.[20] Later, he joined the Indian National Committee for Space Research, working under renowned space scientist Vikram Sarabhai.[3] He was interviewed and recruited into Indian Space Research Organisation (ISRO) by H. G. S. Murthy, the first director of the Thumba Equatorial Rocket Launching Station.[21]\n",
    "\n",
    "In 1969, Kalam transferred to ISRO where he became the project director of India's first satellite launch vehicle (SLV) which successfully deployed the Rohini satellite in near-earth orbit in July 1980. He had earlier started work on an expandable rocket project independently at DRDO in 1965.[22] In 1969, Kalam received the approval from the Government of India to expand the programme to include more engineers.[19] In 1963–64, he visited NASA's Langley Research Center in Hampton, Goddard Space Flight Center in Greenbelt, and Wallops Flight Facility.[2][23] Since the late 1970s, Kalam was part of the effort to develop the SLV-3 and Polar Satellite Launch Vehicle (PSLV), both of which were successful.[24][25]\n",
    "\n",
    "In May 1974, Kalam was invited by Raja Ramanna to witness the country's first nuclear test Smiling Buddha as the representative of Terminal Ballistics Research Laboratory, even though he was officially not part of the project.[26] In the 1970s, Kalam directed two projects, Project Devil and Project Valiant, which sought to develop ballistic missiles using the technology from the successful SLV programme. Despite the disapproval of the union cabinet, then Prime Minister Indira Gandhi allotted funds for these aerospace projects under Kalam's directorship through her discretionary powers. Kalam also played a major role in convincing the cabinet to conceal the true nature of these classified projects. His research and leadership brought him recognition in the 1980s, which prompted the government to initiate an advanced missile programme under his directorship.[27]\n",
    "\n",
    "Kalam worked with metallurgist V. S. R. Arunachalam, who was then scientific adviser to the Defence Minister, on the suggestion by the then Defence Minister R. Venkataraman on the simultaneous development of a quiver of missiles instead of taking planned missiles one after another.[28] Venkatraman was instrumental in getting the cabinet approval for allocating ₹3.88 billion (equivalent to ₹66 billion or US$780 million in 2023) for the project titled Integrated Guided Missile Development Programme (IGMDP) and appointed Kalam as its chief executive.[28] Kalam played a major role in the development of missiles including Agni, an intermediate range ballistic missile and Prithvi, the tactical surface-to-surface missile, despite inflated costs and time overruns.[28][29] He was known as the \"Missile Man of India\" for his work on the development of ballistic missile and launch vehicle technology.[30][31][32]\n",
    "\n",
    "Kalam served as the chief scientific adviser to the prime minister and secretary of the DRDO from July 1992 to December 1999. He played a key organisational, political and technical role in the Pokhran-II nuclear tests conducted in May 1998.[33] Along with Rajagopala Chidambaram, he served as the chief project coordinator for the tests.[2][34] Media coverage of Kalam during this period made him the country's best known nuclear scientist.[35] However, the director of the site test, K. Santhanam, said that the thermonuclear bomb had been a \"fizzle\" and criticised Kalam for issuing an incorrect report.[36] The claim was refuted and rejected by Kalam and Chidambaram.[37]\n",
    "\n",
    "In 1998, Kalam worked with cardiologist Bhupathiraju Somaraju and developed a low cost coronary stent, named the \"Kalam-Raju stent\".[38][39] In 2012, the duo designed a tablet computer named the \"Kalam-Raju tablet\" for usage by healthcare workers in rural areas.[40]\n",
    "\n",
    "Presidency\n",
    "\n",
    "Kalam greeting then prime minister Vajpayee on 25 December 2003\n",
    "On 10 June 2002, the National Democratic Alliance which was in power at the time, expressed its intention to nominate Kalam for the post of the President of India.[41][42] His candidature was backed by the opposition parties including the Samajwadi Party and the Nationalist Congress Party.[43][44] After the support for Kalam, incumbent president K. R. Narayanan chose not to seek a re-election.[45] Kalam said of the announcement of his candidature:\n",
    "\n",
    "I am really overwhelmed. Everywhere both in Internet and in other media, I have been asked for a message. I was thinking what message I can give to the people of the country at this juncture.[46]\n",
    "\n",
    "On 18 June, Kalam filed his nomination papers in the Indian Parliament, accompanied by then prime minister Atal Bihari Vajpayee and senior cabinet members.[47] He faced off against Lakshmi Sahgal, and the polling for the presidential election was held on 15 July 2002, in the Indian parliament and the state assemblies, with the media predicting a win for Kalam.[48] The counting was held on 18 July, and Kalam won the elections after securing 922,884 electoral votes as against the 107,366 votes won by Sahgal.[49] He was sworn in as the 11th president of India on 25 July 2002.[50][51] He was the first scientist and the first bachelor to occupy the top chair at Rashtrapati Bhawan.[52]\n",
    "\n",
    "\n",
    "Kalam with prime minister designate Manmohan Singh in New Delhi on 19 May 2004\n",
    "During his term as president, he was affectionately known as the \"People's President\".[53][54][55][56] He later stated that signing the Office of profit bill was the toughest decision he had taken during his tenure.[57][58][59] In September 2003, during an interactive session at PGIMR in Chandigarh, Kalam asserted the need of Uniform Civil Code in India, keeping in view the population of the country.[60][61] He also took a decision to impose President's rule in Bihar in 2005.[62] However, during his tenure as president, he made no decision on 20 out of the 21 mercy petitions submitted to him to commute death penalties, including that of terrorist Afzal Guru, who was convicted of conspiracy in the December 2001 attack on the Indian Parliament and was sentenced to death by the Supreme Court of India in 2004.[63] He acted only on a single plea, rejecting that of Dhananjoy Chatterjee, who was later hanged.[64]\n",
    "\n",
    "Towards the end of his term, on 20 June 2007, Kalam expressed his willingness to consider a second term in office provided there was certainty about his victory in the upcoming presidential election.[65] His name was proposed by the United National Progressive Alliance, but he did receive the support of the ruling United Progressive Alliance.[66][67] However, two days later, he decided not to contest the election again stating that he wanted to avoid involving the Rashtrapati Bhavan in the political processes.[68]\n",
    "\n",
    "\n",
    "Kalam addressing the nation on the eve of the 58th Republic day in 2007\n",
    "In April 2012, towards the expiry of the term of the 12th president Pratibha Patil, media reports claimed that Kalam was likely to be nominated for his second term.[69][70][71] After the reports, social networking sites witnessed a surge in posts supporting his candidature.[72][73] While the ruling Indian National Congress opposed the nomination of Kalam,[74] other parties such as the Bharatiya Janata Party and the Trinamool Congress were reported by the media to be keen on his candidature.[75][76][77][78] On 18 June 2012, Kalam declined to contest stating that:\n",
    "\n",
    "Many, many citizens have also expressed the same wish. It only reflects their love and affection for me and the aspiration of the people. I am really overwhelmed by this support. This being their wish, I respect it. I want to thank them for the trust they have in me.[79]\n",
    "\n",
    "Post-presidency\n",
    "\n",
    "Kalam addressing students at IIT Guwahati in 2012\n",
    "After leaving office, Kalam returned to teaching, and became a visiting professor at various institutions. He became a visiting professor at IIM Shillong,[80] an honorary professor at his alma mater Anna University in Chennai,[81] and an honorary fellow of the Indian Institute of Science at Bengaluru.[82][83] In September 2007, he became the first chancellor of the newly established Indian Institute of Space Science and Technology at Thiruvananthapuram.[84] He also conducted lectures for management students in India,[85] and visited China twice at the invitation of the Chinese government to conduct sessions at the Peking University.[86]\n",
    "\n",
    "In 2011, Kalam voiced his support towards the establishment of the nuclear power plant at Koodankulam in Tamil Nadu, giving assurances for the safety of the facility.[87] However, some of the locals were unconvinced by his statements on the safety of the plant, and were hostile to his visit.[88] In May 2012, Kalam launched a programme called What Can I Give Movement aimed at the youth of India with a central theme of defeating corruption.[89][90]\n",
    "\n",
    "Death\n",
    "Main article: Death and state funeral of A. P. J. Abdul Kalam\n",
    "On 27 July 2015, Kalam travelled to Shillong to deliver a lecture on \"Creating a Livable Planet Earth\" at IIM Shillong. While climbing a flight of stairs, he experienced some discomfort, but was able to enter the auditorium after a brief rest.[91][92] At around 6:35 p.m. IST, after five minutes into his lecture, he collapsed.[93] He was rushed to the nearby Bethany Hospital in a critical condition, and upon arrival, he lacked a pulse or any other signs of life. Despite being placed in the intensive care unit, he was confirmed dead of a sudden cardiac arrest at 7:45 p.m.[94][95] His purported last words to his aide Srijan Pal Singh were: \"Funny guy! Are you doing well?\"[96]\n",
    "\"\"\""
   ]
  },
  {
   "cell_type": "code",
   "execution_count": 6,
   "id": "c471e4fa",
   "metadata": {},
   "outputs": [],
   "source": [
    "documents = [Document(page_content=text_data)]\n",
    "graph_documents = await graph_transformer.aconvert_to_graph_documents(documents)\n"
   ]
  },
  {
   "cell_type": "code",
   "execution_count": 7,
   "id": "a0d18e24",
   "metadata": {},
   "outputs": [
    {
     "name": "stdout",
     "output_type": "stream",
     "text": [
      "Nodes: [Node(id='Avul Pakir Jainulabdeen Abdul Kalam', type='Person', properties={}), Node(id='India', type='Country', properties={}), Node(id='Rameswaram', type='Place', properties={}), Node(id='Tamil Nadu', type='Place', properties={}), Node(id='Physics', type='Field', properties={}), Node(id='Aerospace Engineering', type='Field', properties={}), Node(id='Defence Research And Development Organisation', type='Organization', properties={}), Node(id='Indian Space Research Organisation', type='Organization', properties={}), Node(id='Missile Man Of India', type='Title', properties={}), Node(id='Pokhran-Ii', type='Event', properties={}), Node(id='Bharat Ratna', type='Award', properties={}), Node(id='Iim Shillong', type='Organization', properties={}), Node(id='Jainulabdeen Marakayar', type='Person', properties={}), Node(id='Ashiamma', type='Person', properties={}), Node(id='Schwartz Higher Secondary School', type='Organization', properties={}), Node(id=\"St. Joseph'S College, Tiruchirappalli\", type='Organization', properties={}), Node(id='Madras Institute Of Technology', type='Organization', properties={}), Node(id='Vikram Sarabhai', type='Person', properties={}), Node(id='Satish Dhawan', type='Person', properties={}), Node(id='Brahm Prakash', type='Person', properties={}), Node(id='H. G. S. Murthy', type='Person', properties={}), Node(id='Rohini Satellite', type='Satellite', properties={}), Node(id='Nasa', type='Organization', properties={}), Node(id='Project Devil', type='Project', properties={}), Node(id='Project Valiant', type='Project', properties={}), Node(id='Agni', type='Missile', properties={}), Node(id='Prithvi', type='Missile', properties={}), Node(id='Integrated Guided Missile Development Programme', type='Project', properties={}), Node(id='Rajagopala Chidambaram', type='Person', properties={}), Node(id='Bhupathiraju Somaraju', type='Person', properties={}), Node(id='Kalam-Raju Stent', type='Invention', properties={}), Node(id='Kalam-Raju Tablet', type='Invention', properties={}), Node(id='National Democratic Alliance', type='Political party', properties={}), Node(id='Bharatiya Janata Party', type='Political party', properties={}), Node(id='Indian National Congress', type='Political party', properties={}), Node(id='Lakshmi Sahgal', type='Person', properties={}), Node(id='Rashtrapati Bhawan', type='Place', properties={}), Node(id='Anna University', type='Organization', properties={}), Node(id='Indian Institute Of Science', type='Organization', properties={}), Node(id='Indian Institute Of Space Science And Technology', type='Organization', properties={}), Node(id='Koodankulam Nuclear Power Plant', type='Facility', properties={}), Node(id='What Can I Give Movement', type='Movement', properties={}), Node(id='Bethany Hospital', type='Organization', properties={})]\n",
      "Relationships: [Relationship(source=Node(id='Avul Pakir Jainulabdeen Abdul Kalam', type='Person', properties={}), target=Node(id='India', type='Country', properties={}), type='PRESIDENT', properties={}), Relationship(source=Node(id='Avul Pakir Jainulabdeen Abdul Kalam', type='Person', properties={}), target=Node(id='Rameswaram', type='Place', properties={}), type='BIRTHPLACE', properties={}), Relationship(source=Node(id='Avul Pakir Jainulabdeen Abdul Kalam', type='Person', properties={}), target=Node(id='Tamil Nadu', type='Place', properties={}), type='BIRTHPLACE', properties={}), Relationship(source=Node(id='Avul Pakir Jainulabdeen Abdul Kalam', type='Person', properties={}), target=Node(id='Physics', type='Field', properties={}), type='STUDIED', properties={}), Relationship(source=Node(id='Avul Pakir Jainulabdeen Abdul Kalam', type='Person', properties={}), target=Node(id='Aerospace Engineering', type='Field', properties={}), type='STUDIED', properties={}), Relationship(source=Node(id='Avul Pakir Jainulabdeen Abdul Kalam', type='Person', properties={}), target=Node(id='Defence Research And Development Organisation', type='Organization', properties={}), type='WORKED_AT', properties={}), Relationship(source=Node(id='Avul Pakir Jainulabdeen Abdul Kalam', type='Person', properties={}), target=Node(id='Indian Space Research Organisation', type='Organization', properties={}), type='WORKED_AT', properties={}), Relationship(source=Node(id='Avul Pakir Jainulabdeen Abdul Kalam', type='Person', properties={}), target=Node(id='Missile Man Of India', type='Title', properties={}), type='KNOWN_AS', properties={}), Relationship(source=Node(id='Avul Pakir Jainulabdeen Abdul Kalam', type='Person', properties={}), target=Node(id='Pokhran-Ii', type='Event', properties={}), type='INVOLVED_IN', properties={}), Relationship(source=Node(id='Avul Pakir Jainulabdeen Abdul Kalam', type='Person', properties={}), target=Node(id='Bharat Ratna', type='Award', properties={}), type='AWARDED', properties={}), Relationship(source=Node(id='Avul Pakir Jainulabdeen Abdul Kalam', type='Person', properties={}), target=Node(id='Iim Shillong', type='Organization', properties={}), type='DIED_AT', properties={}), Relationship(source=Node(id='Avul Pakir Jainulabdeen Abdul Kalam', type='Person', properties={}), target=Node(id='Jainulabdeen Marakayar', type='Person', properties={}), type='PARENT', properties={}), Relationship(source=Node(id='Avul Pakir Jainulabdeen Abdul Kalam', type='Person', properties={}), target=Node(id='Ashiamma', type='Person', properties={}), type='PARENT', properties={}), Relationship(source=Node(id='Avul Pakir Jainulabdeen Abdul Kalam', type='Person', properties={}), target=Node(id='Schwartz Higher Secondary School', type='Organization', properties={}), type='EDUCATED_AT', properties={}), Relationship(source=Node(id='Avul Pakir Jainulabdeen Abdul Kalam', type='Person', properties={}), target=Node(id=\"St. Joseph'S College, Tiruchirappalli\", type='Organization', properties={}), type='EDUCATED_AT', properties={}), Relationship(source=Node(id='Avul Pakir Jainulabdeen Abdul Kalam', type='Person', properties={}), target=Node(id='Madras Institute Of Technology', type='Organization', properties={}), type='EDUCATED_AT', properties={}), Relationship(source=Node(id='Avul Pakir Jainulabdeen Abdul Kalam', type='Person', properties={}), target=Node(id='Vikram Sarabhai', type='Person', properties={}), type='MENTORED_BY', properties={}), Relationship(source=Node(id='Avul Pakir Jainulabdeen Abdul Kalam', type='Person', properties={}), target=Node(id='Satish Dhawan', type='Person', properties={}), type='MENTORED_BY', properties={}), Relationship(source=Node(id='Avul Pakir Jainulabdeen Abdul Kalam', type='Person', properties={}), target=Node(id='Brahm Prakash', type='Person', properties={}), type='MENTORED_BY', properties={}), Relationship(source=Node(id='Avul Pakir Jainulabdeen Abdul Kalam', type='Person', properties={}), target=Node(id='H. G. S. Murthy', type='Person', properties={}), type='RECRUITED_BY', properties={}), Relationship(source=Node(id='Avul Pakir Jainulabdeen Abdul Kalam', type='Person', properties={}), target=Node(id='Rohini Satellite', type='Satellite', properties={}), type='PROJECT_DIRECTOR', properties={}), Relationship(source=Node(id='Avul Pakir Jainulabdeen Abdul Kalam', type='Person', properties={}), target=Node(id='Nasa', type='Organization', properties={}), type='VISITED', properties={}), Relationship(source=Node(id='Avul Pakir Jainulabdeen Abdul Kalam', type='Person', properties={}), target=Node(id='Project Devil', type='Project', properties={}), type='DIRECTED', properties={}), Relationship(source=Node(id='Avul Pakir Jainulabdeen Abdul Kalam', type='Person', properties={}), target=Node(id='Project Valiant', type='Project', properties={}), type='DIRECTED', properties={}), Relationship(source=Node(id='Avul Pakir Jainulabdeen Abdul Kalam', type='Person', properties={}), target=Node(id='Agni', type='Missile', properties={}), type='DEVELOPED', properties={}), Relationship(source=Node(id='Avul Pakir Jainulabdeen Abdul Kalam', type='Person', properties={}), target=Node(id='Prithvi', type='Missile', properties={}), type='DEVELOPED', properties={}), Relationship(source=Node(id='Avul Pakir Jainulabdeen Abdul Kalam', type='Person', properties={}), target=Node(id='Integrated Guided Missile Development Programme', type='Project', properties={}), type='CHIEF_EXECUTIVE', properties={}), Relationship(source=Node(id='Avul Pakir Jainulabdeen Abdul Kalam', type='Person', properties={}), target=Node(id='Rajagopala Chidambaram', type='Person', properties={}), type='COLLABORATED_WITH', properties={}), Relationship(source=Node(id='Avul Pakir Jainulabdeen Abdul Kalam', type='Person', properties={}), target=Node(id='Bhupathiraju Somaraju', type='Person', properties={}), type='COLLABORATED_WITH', properties={}), Relationship(source=Node(id='Avul Pakir Jainulabdeen Abdul Kalam', type='Person', properties={}), target=Node(id='Kalam-Raju Stent', type='Invention', properties={}), type='DEVELOPED', properties={}), Relationship(source=Node(id='Avul Pakir Jainulabdeen Abdul Kalam', type='Person', properties={}), target=Node(id='Kalam-Raju Tablet', type='Invention', properties={}), type='DEVELOPED', properties={}), Relationship(source=Node(id='Avul Pakir Jainulabdeen Abdul Kalam', type='Person', properties={}), target=Node(id='National Democratic Alliance', type='Political party', properties={}), type='SUPPORTED_BY', properties={}), Relationship(source=Node(id='Avul Pakir Jainulabdeen Abdul Kalam', type='Person', properties={}), target=Node(id='Bharatiya Janata Party', type='Political party', properties={}), type='SUPPORTED_BY', properties={}), Relationship(source=Node(id='Avul Pakir Jainulabdeen Abdul Kalam', type='Person', properties={}), target=Node(id='Indian National Congress', type='Political party', properties={}), type='SUPPORTED_BY', properties={}), Relationship(source=Node(id='Avul Pakir Jainulabdeen Abdul Kalam', type='Person', properties={}), target=Node(id='Lakshmi Sahgal', type='Person', properties={}), type='OPPONENT', properties={}), Relationship(source=Node(id='Avul Pakir Jainulabdeen Abdul Kalam', type='Person', properties={}), target=Node(id='Rashtrapati Bhawan', type='Place', properties={}), type='RESIDENCE', properties={}), Relationship(source=Node(id='Avul Pakir Jainulabdeen Abdul Kalam', type='Person', properties={}), target=Node(id='Anna University', type='Organization', properties={}), type='HONORARY_PROFESSOR', properties={}), Relationship(source=Node(id='Avul Pakir Jainulabdeen Abdul Kalam', type='Person', properties={}), target=Node(id='Indian Institute Of Science', type='Organization', properties={}), type='HONORARY_FELLOW', properties={}), Relationship(source=Node(id='Avul Pakir Jainulabdeen Abdul Kalam', type='Person', properties={}), target=Node(id='Indian Institute Of Space Science And Technology', type='Organization', properties={}), type='CHANCELLOR', properties={}), Relationship(source=Node(id='Avul Pakir Jainulabdeen Abdul Kalam', type='Person', properties={}), target=Node(id='Koodankulam Nuclear Power Plant', type='Facility', properties={}), type='SUPPORTED', properties={}), Relationship(source=Node(id='Avul Pakir Jainulabdeen Abdul Kalam', type='Person', properties={}), target=Node(id='What Can I Give Movement', type='Movement', properties={}), type='FOUNDED', properties={}), Relationship(source=Node(id='Avul Pakir Jainulabdeen Abdul Kalam', type='Person', properties={}), target=Node(id='Bethany Hospital', type='Organization', properties={}), type='DIED_AT', properties={})]\n"
     ]
    }
   ],
   "source": [
    "print(\"Nodes:\", graph_documents[0].nodes)\n",
    "print(\"Relationships:\", graph_documents[0].relationships)"
   ]
  },
  {
   "cell_type": "markdown",
   "id": "7e745652",
   "metadata": {},
   "source": [
    "#### Visualize this graph"
   ]
  },
  {
   "cell_type": "code",
   "execution_count": 8,
   "id": "d4f781f4",
   "metadata": {},
   "outputs": [
    {
     "name": "stdout",
     "output_type": "stream",
     "text": [
      "Graph saved to: c:\\Users\\aprasa02\\Downloads\\knowledge-graph-project\\knowledge_graph.html\n"
     ]
    }
   ],
   "source": [
    "from pyvis.network import Network\n",
    "\n",
    "def visualize_graph(graph_documents):\n",
    "    # Create a network\n",
    "    network = Network(height=\"1200px\",width='100%', directed=True,\n",
    "                      notebook=False, bgcolor=\"#222223\", font_color=\"white\")\n",
    "    nodes = graph_documents[0].nodes\n",
    "    relationships = graph_documents[0].relationships\n",
    "    \n",
    "    #Build lookup for valid nodes\n",
    "    node_dict = {node.id: node for node in nodes}\n",
    "    \n",
    "    #Filter out invalid edges and collect valid node ids\n",
    "    valid_edges = []\n",
    "    valid_node_ids = set()\n",
    "    for rel in relationships:\n",
    "        if rel.source.id in node_dict and rel.target.id in node_dict:\n",
    "            valid_edges.append(rel)\n",
    "            valid_node_ids.update([rel.source.id, rel.target.id])\n",
    "    \n",
    "    #Track which nodes are part of any relationship\n",
    "    connected_node_ids = set()\n",
    "    for rel in relationships:\n",
    "        connected_node_ids.add(rel.source.id)\n",
    "        connected_node_ids.add(rel.target.id)\n",
    "    \n",
    "    #Add valid nodes to the network\n",
    "    for node_id in valid_node_ids:\n",
    "        node = node_dict[node_id]\n",
    "        try:\n",
    "            network.add_node(node.id, label=node.id, title=node.type, group=node.type)\n",
    "        except:\n",
    "            continue #skip if error encountered\n",
    "    \n",
    "    #Add valid edges to the network\n",
    "    for rel in valid_edges:\n",
    "        try:\n",
    "            network.add_edge(rel.source.id, rel.target.id, label=rel.type.lower())\n",
    "        except:\n",
    "            continue #skip if error encountered\n",
    "    \n",
    "    #Configure physics\n",
    "    network.set_options(\"\"\"\n",
    "            {\n",
    "                \"physics\": {\n",
    "                    \"forceAtlas2Based\": {\n",
    "                        \"gravitationalConstant\": -100,\n",
    "                        \"centralGravity\": 0.01,\n",
    "                        \"springLength\": 200,\n",
    "                        \"springConstant\": 0.08\n",
    "                    },\n",
    "                    \"minVelocity\": 0.75,\n",
    "                    \"solver\": \"forceAtlas2Based\"\n",
    "                }\n",
    "            }\n",
    "            \"\"\")\n",
    "    output_file = \"knowledge_graph.html\"\n",
    "    network.save_graph(output_file)\n",
    "    print(\"Graph saved to:\",os.path.abspath(output_file))\n",
    "    \n",
    "    # Try to open in browser:\n",
    "    try:\n",
    "        import webbrowser\n",
    "        webbrowser.open(f\"file://{os.path.abspath(output_file)}\")\n",
    "    except:\n",
    "        print('Could not open browser automatically')\n",
    "\n",
    "#Run the graph\n",
    "visualize_graph(graph_documents)"
   ]
  },
  {
   "cell_type": "markdown",
   "id": "42e19769",
   "metadata": {},
   "source": [
    "#### Extract specific type of nodes "
   ]
  },
  {
   "cell_type": "code",
   "execution_count": 9,
   "id": "0902d8f6",
   "metadata": {},
   "outputs": [],
   "source": [
    "allowed_nodes = ['Person', 'Organization', 'Location', 'Award', 'ResearchFeild']\n",
    "graph_transformer_restr_nodes = LLMGraphTransformer(llm=llm, allowed_nodes=allowed_nodes)\n",
    "graph_documents_restr_nodes = await graph_transformer_restr_nodes.aconvert_to_graph_documents(documents)\n"
   ]
  },
  {
   "cell_type": "code",
   "execution_count": 10,
   "id": "f9cf973b",
   "metadata": {},
   "outputs": [
    {
     "name": "stdout",
     "output_type": "stream",
     "text": [
      "Nodes: [Node(id='Avul Pakir Jainulabdeen Abdul Kalam', type='Person', properties={}), Node(id='India', type='Location', properties={}), Node(id='Rameswaram', type='Location', properties={}), Node(id='Tamil Nadu', type='Location', properties={}), Node(id='Defence Research And Development Organisation', type='Organization', properties={}), Node(id='Indian Space Research Organisation', type='Organization', properties={}), Node(id='Missile Man Of India', type='Award', properties={}), Node(id='Pokhran-Ii', type='Researchfeild', properties={}), Node(id='Bharat Ratna', type='Award', properties={}), Node(id='Iim Shillong', type='Organization', properties={}), Node(id='Jainulabdeen Marakayar', type='Person', properties={}), Node(id='Ashiamma', type='Person', properties={}), Node(id='Schwartz Higher Secondary School', type='Organization', properties={}), Node(id=\"St. Joseph'S College, Tiruchirappalli\", type='Organization', properties={}), Node(id='Madras Institute Of Technology', type='Organization', properties={}), Node(id='Vikram Sarabhai', type='Person', properties={}), Node(id='Satish Dhawan', type='Person', properties={}), Node(id='Brahm Prakash', type='Person', properties={}), Node(id='H. G. S. Murthy', type='Person', properties={}), Node(id='Rohini Satellite', type='Researchfeild', properties={}), Node(id='Nasa', type='Organization', properties={}), Node(id='Project Devil', type='Researchfeild', properties={}), Node(id='Project Valiant', type='Researchfeild', properties={}), Node(id='Integrated Guided Missile Development Programme', type='Researchfeild', properties={}), Node(id='Agni', type='Researchfeild', properties={}), Node(id='Prithvi', type='Researchfeild', properties={}), Node(id='Rajagopala Chidambaram', type='Person', properties={}), Node(id='Bhupathiraju Somaraju', type='Person', properties={}), Node(id='Kalam-Raju Stent', type='Researchfeild', properties={}), Node(id='Kalam-Raju Tablet', type='Researchfeild', properties={}), Node(id='Bharatiya Janata Party', type='Organization', properties={}), Node(id='Indian National Congress', type='Organization', properties={}), Node(id='K. R. Narayanan', type='Person', properties={}), Node(id='Lakshmi Sahgal', type='Person', properties={}), Node(id='Atal Bihari Vajpayee', type='Person', properties={}), Node(id='Manmohan Singh', type='Person', properties={}), Node(id='Anna University', type='Organization', properties={}), Node(id='Indian Institute Of Science', type='Organization', properties={}), Node(id='Indian Institute Of Space Science And Technology', type='Organization', properties={}), Node(id='Peking University', type='Organization', properties={}), Node(id='Koodankulam', type='Location', properties={}), Node(id='What Can I Give Movement', type='Researchfeild', properties={}), Node(id='Bethany Hospital', type='Organization', properties={}), Node(id='Srijan Pal Singh', type='Person', properties={})]\n",
      "Relationships: [Relationship(source=Node(id='Avul Pakir Jainulabdeen Abdul Kalam', type='Person', properties={}), target=Node(id='India', type='Location', properties={}), type='PRESIDENT', properties={}), Relationship(source=Node(id='Avul Pakir Jainulabdeen Abdul Kalam', type='Person', properties={}), target=Node(id='Rameswaram', type='Location', properties={}), type='BIRTHPLACE', properties={}), Relationship(source=Node(id='Avul Pakir Jainulabdeen Abdul Kalam', type='Person', properties={}), target=Node(id='Tamil Nadu', type='Location', properties={}), type='BIRTHPLACE', properties={}), Relationship(source=Node(id='Avul Pakir Jainulabdeen Abdul Kalam', type='Person', properties={}), target=Node(id='Defence Research And Development Organisation', type='Organization', properties={}), type='SCIENTIST', properties={}), Relationship(source=Node(id='Avul Pakir Jainulabdeen Abdul Kalam', type='Person', properties={}), target=Node(id='Indian Space Research Organisation', type='Organization', properties={}), type='SCIENTIST', properties={}), Relationship(source=Node(id='Avul Pakir Jainulabdeen Abdul Kalam', type='Person', properties={}), target=Node(id='Missile Man Of India', type='Award', properties={}), type='KNOWN_AS', properties={}), Relationship(source=Node(id='Avul Pakir Jainulabdeen Abdul Kalam', type='Person', properties={}), target=Node(id='Pokhran-Ii', type='Researchfeild', properties={}), type='INVOLVED_IN', properties={}), Relationship(source=Node(id='Avul Pakir Jainulabdeen Abdul Kalam', type='Person', properties={}), target=Node(id='Bharat Ratna', type='Award', properties={}), type='AWARDED', properties={}), Relationship(source=Node(id='Avul Pakir Jainulabdeen Abdul Kalam', type='Person', properties={}), target=Node(id='Iim Shillong', type='Organization', properties={}), type='LECTURER', properties={}), Relationship(source=Node(id='Avul Pakir Jainulabdeen Abdul Kalam', type='Person', properties={}), target=Node(id='Jainulabdeen Marakayar', type='Person', properties={}), type='CHILD_OF', properties={}), Relationship(source=Node(id='Avul Pakir Jainulabdeen Abdul Kalam', type='Person', properties={}), target=Node(id='Ashiamma', type='Person', properties={}), type='CHILD_OF', properties={}), Relationship(source=Node(id='Avul Pakir Jainulabdeen Abdul Kalam', type='Person', properties={}), target=Node(id='Schwartz Higher Secondary School', type='Organization', properties={}), type='EDUCATED_AT', properties={}), Relationship(source=Node(id='Avul Pakir Jainulabdeen Abdul Kalam', type='Person', properties={}), target=Node(id=\"St. Joseph'S College, Tiruchirappalli\", type='Organization', properties={}), type='EDUCATED_AT', properties={}), Relationship(source=Node(id='Avul Pakir Jainulabdeen Abdul Kalam', type='Person', properties={}), target=Node(id='Madras Institute Of Technology', type='Organization', properties={}), type='EDUCATED_AT', properties={}), Relationship(source=Node(id='Avul Pakir Jainulabdeen Abdul Kalam', type='Person', properties={}), target=Node(id='Vikram Sarabhai', type='Person', properties={}), type='MENTORED_BY', properties={}), Relationship(source=Node(id='Avul Pakir Jainulabdeen Abdul Kalam', type='Person', properties={}), target=Node(id='Satish Dhawan', type='Person', properties={}), type='MENTORED_BY', properties={}), Relationship(source=Node(id='Avul Pakir Jainulabdeen Abdul Kalam', type='Person', properties={}), target=Node(id='Brahm Prakash', type='Person', properties={}), type='MENTORED_BY', properties={}), Relationship(source=Node(id='Avul Pakir Jainulabdeen Abdul Kalam', type='Person', properties={}), target=Node(id='H. G. S. Murthy', type='Person', properties={}), type='RECRUITED_BY', properties={}), Relationship(source=Node(id='Avul Pakir Jainulabdeen Abdul Kalam', type='Person', properties={}), target=Node(id='Rohini Satellite', type='Researchfeild', properties={}), type='PROJECT_DIRECTOR', properties={}), Relationship(source=Node(id='Avul Pakir Jainulabdeen Abdul Kalam', type='Person', properties={}), target=Node(id='Nasa', type='Organization', properties={}), type='VISITED', properties={}), Relationship(source=Node(id='Avul Pakir Jainulabdeen Abdul Kalam', type='Person', properties={}), target=Node(id='Project Devil', type='Researchfeild', properties={}), type='DIRECTED', properties={}), Relationship(source=Node(id='Avul Pakir Jainulabdeen Abdul Kalam', type='Person', properties={}), target=Node(id='Project Valiant', type='Researchfeild', properties={}), type='DIRECTED', properties={}), Relationship(source=Node(id='Avul Pakir Jainulabdeen Abdul Kalam', type='Person', properties={}), target=Node(id='Integrated Guided Missile Development Programme', type='Researchfeild', properties={}), type='CHIEF_EXECUTIVE', properties={}), Relationship(source=Node(id='Avul Pakir Jainulabdeen Abdul Kalam', type='Person', properties={}), target=Node(id='Agni', type='Researchfeild', properties={}), type='DEVELOPED', properties={}), Relationship(source=Node(id='Avul Pakir Jainulabdeen Abdul Kalam', type='Person', properties={}), target=Node(id='Prithvi', type='Researchfeild', properties={}), type='DEVELOPED', properties={}), Relationship(source=Node(id='Avul Pakir Jainulabdeen Abdul Kalam', type='Person', properties={}), target=Node(id='Rajagopala Chidambaram', type='Person', properties={}), type='COLLABORATED_WITH', properties={}), Relationship(source=Node(id='Avul Pakir Jainulabdeen Abdul Kalam', type='Person', properties={}), target=Node(id='Bhupathiraju Somaraju', type='Person', properties={}), type='COLLABORATED_WITH', properties={}), Relationship(source=Node(id='Avul Pakir Jainulabdeen Abdul Kalam', type='Person', properties={}), target=Node(id='Kalam-Raju Stent', type='Researchfeild', properties={}), type='DEVELOPED', properties={}), Relationship(source=Node(id='Avul Pakir Jainulabdeen Abdul Kalam', type='Person', properties={}), target=Node(id='Kalam-Raju Tablet', type='Researchfeild', properties={}), type='DEVELOPED', properties={}), Relationship(source=Node(id='Avul Pakir Jainulabdeen Abdul Kalam', type='Person', properties={}), target=Node(id='Bharatiya Janata Party', type='Organization', properties={}), type='SUPPORTED_BY', properties={}), Relationship(source=Node(id='Avul Pakir Jainulabdeen Abdul Kalam', type='Person', properties={}), target=Node(id='Indian National Congress', type='Organization', properties={}), type='SUPPORTED_BY', properties={}), Relationship(source=Node(id='Avul Pakir Jainulabdeen Abdul Kalam', type='Person', properties={}), target=Node(id='K. R. Narayanan', type='Person', properties={}), type='SUCCEEDED', properties={}), Relationship(source=Node(id='Avul Pakir Jainulabdeen Abdul Kalam', type='Person', properties={}), target=Node(id='Lakshmi Sahgal', type='Person', properties={}), type='OPPONENT', properties={}), Relationship(source=Node(id='Avul Pakir Jainulabdeen Abdul Kalam', type='Person', properties={}), target=Node(id='Atal Bihari Vajpayee', type='Person', properties={}), type='SUPPORTED_BY', properties={}), Relationship(source=Node(id='Avul Pakir Jainulabdeen Abdul Kalam', type='Person', properties={}), target=Node(id='Manmohan Singh', type='Person', properties={}), type='INTERACTED_WITH', properties={}), Relationship(source=Node(id='Avul Pakir Jainulabdeen Abdul Kalam', type='Person', properties={}), target=Node(id='Anna University', type='Organization', properties={}), type='HONORARY_PROFESSOR', properties={}), Relationship(source=Node(id='Avul Pakir Jainulabdeen Abdul Kalam', type='Person', properties={}), target=Node(id='Indian Institute Of Science', type='Organization', properties={}), type='HONORARY_FELLOW', properties={}), Relationship(source=Node(id='Avul Pakir Jainulabdeen Abdul Kalam', type='Person', properties={}), target=Node(id='Indian Institute Of Space Science And Technology', type='Organization', properties={}), type='CHANCELLOR', properties={}), Relationship(source=Node(id='Avul Pakir Jainulabdeen Abdul Kalam', type='Person', properties={}), target=Node(id='Peking University', type='Organization', properties={}), type='LECTURER', properties={}), Relationship(source=Node(id='Avul Pakir Jainulabdeen Abdul Kalam', type='Person', properties={}), target=Node(id='Koodankulam', type='Location', properties={}), type='SUPPORTED', properties={}), Relationship(source=Node(id='Avul Pakir Jainulabdeen Abdul Kalam', type='Person', properties={}), target=Node(id='What Can I Give Movement', type='Researchfeild', properties={}), type='FOUNDED', properties={}), Relationship(source=Node(id='Avul Pakir Jainulabdeen Abdul Kalam', type='Person', properties={}), target=Node(id='Bethany Hospital', type='Organization', properties={}), type='DIED_AT', properties={}), Relationship(source=Node(id='Avul Pakir Jainulabdeen Abdul Kalam', type='Person', properties={}), target=Node(id='Srijan Pal Singh', type='Person', properties={}), type='INTERACTED_WITH', properties={})]\n"
     ]
    }
   ],
   "source": [
    "print(\"Nodes:\", graph_documents_restr_nodes[0].nodes)\n",
    "print(\"Relationships:\", graph_documents_restr_nodes[0].relationships)"
   ]
  },
  {
   "cell_type": "markdown",
   "id": "3062b50b",
   "metadata": {},
   "source": [
    "#### Extract specific type of relationship"
   ]
  },
  {
   "cell_type": "code",
   "execution_count": 12,
   "id": "49fdfd8d",
   "metadata": {},
   "outputs": [],
   "source": [
    "allowed_nodes = ['Person', 'Organization', 'Location', 'Award', 'ResearchFeild']\n",
    "allowed_relationships = [\n",
    "    ('Person','WORKS_AT', 'Organization'),\n",
    "    ('Person', 'SPOUSE', 'Person'),\n",
    "    ('Person', 'AWARD', 'Award'),\n",
    "    ('Organization', 'IN_LOCATION', 'Location'),\n",
    "    ('Person', 'FIELD_OF_RESEARCH', 'ResearchFeild')\n",
    "]\n",
    "graph_transformer_rel_defined = LLMGraphTransformer(\n",
    "    llm=llm, \n",
    "    allowed_nodes=allowed_nodes,\n",
    "    allowed_relationships=allowed_relationships\n",
    ")\n",
    "graph_documents_rel_defined = await graph_transformer_rel_defined.aconvert_to_graph_documents(documents)"
   ]
  },
  {
   "cell_type": "code",
   "execution_count": 13,
   "id": "52737f19",
   "metadata": {},
   "outputs": [
    {
     "name": "stdout",
     "output_type": "stream",
     "text": [
      "Nodes: [Node(id='Avul Pakir Jainulabdeen Abdul Kalam', type='Person', properties={}), Node(id='India', type='Location', properties={}), Node(id='Rameswaram', type='Location', properties={}), Node(id='Tamil Nadu', type='Location', properties={}), Node(id='Defence Research And Development Organisation', type='Organization', properties={}), Node(id='Indian Space Research Organisation', type='Organization', properties={}), Node(id='Bharat Ratna', type='Award', properties={}), Node(id='Physics', type='Researchfeild', properties={}), Node(id='Aerospace Engineering', type='Researchfeild', properties={}), Node(id=\"St. Joseph'S College, Tiruchirappalli\", type='Organization', properties={}), Node(id='Madras Institute Of Technology', type='Organization', properties={}), Node(id='Indian Air Force', type='Organization', properties={}), Node(id='Integrated Guided Missile Development Programme', type='Researchfeild', properties={}), Node(id='Pokhran-Ii', type='Researchfeild', properties={}), Node(id='Bharatiya Janata Party', type='Organization', properties={}), Node(id='Indian National Congress', type='Organization', properties={}), Node(id='Iim Shillong', type='Organization', properties={}), Node(id='Anna University', type='Organization', properties={}), Node(id='Indian Institute Of Science', type='Organization', properties={}), Node(id='Indian Institute Of Space Science And Technology', type='Organization', properties={})]\n",
      "Relationships: [Relationship(source=Node(id='Avul Pakir Jainulabdeen Abdul Kalam', type='Person', properties={}), target=Node(id='Defence Research And Development Organisation', type='Organization', properties={}), type='WORKS_AT', properties={}), Relationship(source=Node(id='Avul Pakir Jainulabdeen Abdul Kalam', type='Person', properties={}), target=Node(id='Indian Space Research Organisation', type='Organization', properties={}), type='WORKS_AT', properties={}), Relationship(source=Node(id='Avul Pakir Jainulabdeen Abdul Kalam', type='Person', properties={}), target=Node(id='Bharat Ratna', type='Award', properties={}), type='AWARD', properties={}), Relationship(source=Node(id='Avul Pakir Jainulabdeen Abdul Kalam', type='Person', properties={}), target=Node(id='Physics', type='Researchfeild', properties={}), type='FIELD_OF_RESEARCH', properties={}), Relationship(source=Node(id='Avul Pakir Jainulabdeen Abdul Kalam', type='Person', properties={}), target=Node(id='Aerospace Engineering', type='Researchfeild', properties={}), type='FIELD_OF_RESEARCH', properties={}), Relationship(source=Node(id=\"St. Joseph'S College, Tiruchirappalli\", type='Organization', properties={}), target=Node(id='Tamil Nadu', type='Location', properties={}), type='IN_LOCATION', properties={}), Relationship(source=Node(id='Madras Institute Of Technology', type='Organization', properties={}), target=Node(id='Tamil Nadu', type='Location', properties={}), type='IN_LOCATION', properties={}), Relationship(source=Node(id='Avul Pakir Jainulabdeen Abdul Kalam', type='Person', properties={}), target=Node(id='Integrated Guided Missile Development Programme', type='Researchfeild', properties={}), type='FIELD_OF_RESEARCH', properties={}), Relationship(source=Node(id='Avul Pakir Jainulabdeen Abdul Kalam', type='Person', properties={}), target=Node(id='Pokhran-Ii', type='Researchfeild', properties={}), type='FIELD_OF_RESEARCH', properties={}), Relationship(source=Node(id='Bharatiya Janata Party', type='Organization', properties={}), target=Node(id='India', type='Location', properties={}), type='IN_LOCATION', properties={}), Relationship(source=Node(id='Indian National Congress', type='Organization', properties={}), target=Node(id='India', type='Location', properties={}), type='IN_LOCATION', properties={}), Relationship(source=Node(id='Avul Pakir Jainulabdeen Abdul Kalam', type='Person', properties={}), target=Node(id='Iim Shillong', type='Organization', properties={}), type='WORKS_AT', properties={}), Relationship(source=Node(id='Avul Pakir Jainulabdeen Abdul Kalam', type='Person', properties={}), target=Node(id='Anna University', type='Organization', properties={}), type='WORKS_AT', properties={}), Relationship(source=Node(id='Avul Pakir Jainulabdeen Abdul Kalam', type='Person', properties={}), target=Node(id='Indian Institute Of Science', type='Organization', properties={}), type='WORKS_AT', properties={}), Relationship(source=Node(id='Avul Pakir Jainulabdeen Abdul Kalam', type='Person', properties={}), target=Node(id='Indian Institute Of Space Science And Technology', type='Organization', properties={}), type='WORKS_AT', properties={})]\n"
     ]
    }
   ],
   "source": [
    "print(\"Nodes:\", graph_documents_rel_defined[0].nodes)\n",
    "print(\"Relationships:\", graph_documents_rel_defined[0].relationships)"
   ]
  },
  {
   "cell_type": "code",
   "execution_count": 14,
   "id": "55ee3a94",
   "metadata": {},
   "outputs": [
    {
     "name": "stdout",
     "output_type": "stream",
     "text": [
      "Graph saved to: c:\\Users\\aprasa02\\Downloads\\knowledge-graph-project\\knowledge_graph.html\n"
     ]
    }
   ],
   "source": [
    "# Visualize this graph\n",
    "visualize_graph(graph_documents_rel_defined)"
   ]
  },
  {
   "cell_type": "code",
   "execution_count": null,
   "id": "32fb337e",
   "metadata": {},
   "outputs": [],
   "source": [
    "#END"
   ]
  }
 ],
 "metadata": {
  "kernelspec": {
   "display_name": "Python 3",
   "language": "python",
   "name": "python3"
  },
  "language_info": {
   "codemirror_mode": {
    "name": "ipython",
    "version": 3
   },
   "file_extension": ".py",
   "mimetype": "text/x-python",
   "name": "python",
   "nbconvert_exporter": "python",
   "pygments_lexer": "ipython3",
   "version": "3.12.10"
  }
 },
 "nbformat": 4,
 "nbformat_minor": 5
}
